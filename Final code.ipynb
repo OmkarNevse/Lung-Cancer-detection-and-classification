{
 "cells": [
  {
   "cell_type": "code",
   "execution_count": 1,
   "metadata": {},
   "outputs": [],
   "source": [
    "import numpy as np \n",
    "import matplotlib.pyplot as plt\n",
    "import tensorflow as tf\n",
    "import glob\n",
    "import cv2\n",
    "\n",
    "from keras.models import Model, Sequential\n",
    "from keras.layers import Dense, Flatten, Conv2D, MaxPooling2D\n",
    "#from keras.layers.normalization import BatchNormalization\n",
    "from tensorflow.keras.layers import Dropout, BatchNormalization\n",
    "import os\n",
    "import seaborn as sns\n",
    "from keras.applications import VGG16\n"
   ]
  },
  {
   "cell_type": "code",
   "execution_count": 2,
   "metadata": {},
   "outputs": [
    {
     "name": "stdout",
     "output_type": "stream",
     "text": [
      "['test', 'train', 'valid']\n"
     ]
    }
   ],
   "source": [
    "print(os.listdir(\"Data/\"))"
   ]
  },
  {
   "cell_type": "code",
   "execution_count": 3,
   "metadata": {},
   "outputs": [
    {
     "name": "stdout",
     "output_type": "stream",
     "text": [
      "['adenocarcinoma', 'large.cell.carcinoma', 'normal', 'squamous.cell.carcinoma']\n"
     ]
    }
   ],
   "source": [
    "print(os.listdir(\"data/valid/\"))"
   ]
  },
  {
   "cell_type": "code",
   "execution_count": 4,
   "metadata": {},
   "outputs": [],
   "source": [
    "SIZE = 256  #Resize images\n",
    "\n",
    "#Capture training data and labels into respective lists\n",
    "train_images = []\n",
    "train_labels = [] \n",
    "\n",
    "for directory_path in glob.glob(\"Data/train/*\"):\n",
    "    label = directory_path.split(\"\\\\\")[-1]\n",
    "    for img_path in glob.glob(os.path.join(directory_path, \"*.png\")):\n",
    "        #print(img_path)\n",
    "        img = cv2.imread(img_path, cv2.IMREAD_COLOR)       \n",
    "        img = cv2.resize(img, (SIZE, SIZE))\n",
    "        img = cv2.cvtColor(img, cv2.COLOR_RGB2BGR)\n",
    "        train_images.append(img)\n",
    "        train_labels.append(label)\n",
    "\n",
    "#Convert lists to arrays        \n",
    "train_images = np.array(train_images)\n",
    "train_labels = np.array(train_labels)"
   ]
  },
  {
   "cell_type": "code",
   "execution_count": 5,
   "metadata": {},
   "outputs": [],
   "source": [
    "# Capture test/validation data and labels into respective lists\n",
    "\n",
    "test_images = []\n",
    "test_labels = [] \n",
    "for directory_path1 in glob.glob(\"Data/valid/*\"):\n",
    "    label1 = directory_path1.split(\"\\\\\")[-1]\n",
    "    for img_path1 in glob.glob(os.path.join(directory_path1, \"*.png\")):\n",
    "        img1 = cv2.imread(img_path1, cv2.IMREAD_COLOR)\n",
    "        img1 = cv2.resize(img1, (SIZE, SIZE))\n",
    "        img1 = cv2.cvtColor(img1, cv2.COLOR_RGB2BGR)\n",
    "        test_images.append(img1)\n",
    "        test_labels.append(label1)\n",
    "\n",
    "#Convert lists to arrays                \n",
    "test_images = np.array(test_images)\n",
    "test_labels = np.array(test_labels)"
   ]
  },
  {
   "cell_type": "code",
   "execution_count": 6,
   "metadata": {},
   "outputs": [
    {
     "name": "stdout",
     "output_type": "stream",
     "text": [
      "Data/valid\\squamous.cell.carcinoma\n",
      "Data/train\\squamous.cell.carcinoma\n",
      "squamous.cell.carcinoma\n",
      "Data/valid\\squamous.cell.carcinoma\\000119.png\n"
     ]
    }
   ],
   "source": [
    "print(directory_path1)\n",
    "print(directory_path)\n",
    "print(label1)\n",
    "print(img_path1)"
   ]
  },
  {
   "cell_type": "code",
   "execution_count": 7,
   "metadata": {},
   "outputs": [],
   "source": [
    "#Encode labels from text to integers.\n",
    "from sklearn import preprocessing\n",
    "le = preprocessing.LabelEncoder()\n",
    "le.fit(test_labels)\n",
    "test_labels_encoded = le.transform(test_labels)\n",
    "le.fit(train_labels)\n",
    "train_labels_encoded = le.transform(train_labels)\n",
    "\n",
    "x_train, y_train, x_test, y_test = train_images, train_labels_encoded, test_images, test_labels_encoded"
   ]
  },
  {
   "cell_type": "code",
   "execution_count": 8,
   "metadata": {},
   "outputs": [
    {
     "data": {
      "text/plain": [
       "array(['adenocarcinoma', 'adenocarcinoma', 'adenocarcinoma',\n",
       "       'adenocarcinoma', 'adenocarcinoma', 'adenocarcinoma',\n",
       "       'adenocarcinoma', 'adenocarcinoma', 'adenocarcinoma',\n",
       "       'adenocarcinoma', 'adenocarcinoma', 'adenocarcinoma',\n",
       "       'adenocarcinoma', 'adenocarcinoma', 'adenocarcinoma',\n",
       "       'adenocarcinoma', 'adenocarcinoma', 'adenocarcinoma',\n",
       "       'adenocarcinoma', 'adenocarcinoma', 'adenocarcinoma',\n",
       "       'adenocarcinoma', 'adenocarcinoma', 'large.cell.carcinoma',\n",
       "       'large.cell.carcinoma', 'large.cell.carcinoma',\n",
       "       'large.cell.carcinoma', 'large.cell.carcinoma',\n",
       "       'large.cell.carcinoma', 'large.cell.carcinoma',\n",
       "       'large.cell.carcinoma', 'large.cell.carcinoma',\n",
       "       'large.cell.carcinoma', 'large.cell.carcinoma',\n",
       "       'large.cell.carcinoma', 'large.cell.carcinoma',\n",
       "       'large.cell.carcinoma', 'large.cell.carcinoma',\n",
       "       'large.cell.carcinoma', 'large.cell.carcinoma',\n",
       "       'large.cell.carcinoma', 'large.cell.carcinoma',\n",
       "       'large.cell.carcinoma', 'large.cell.carcinoma', 'normal', 'normal',\n",
       "       'normal', 'normal', 'normal', 'normal', 'normal', 'normal',\n",
       "       'normal', 'normal', 'normal', 'normal', 'normal',\n",
       "       'squamous.cell.carcinoma', 'squamous.cell.carcinoma',\n",
       "       'squamous.cell.carcinoma', 'squamous.cell.carcinoma',\n",
       "       'squamous.cell.carcinoma', 'squamous.cell.carcinoma',\n",
       "       'squamous.cell.carcinoma', 'squamous.cell.carcinoma',\n",
       "       'squamous.cell.carcinoma', 'squamous.cell.carcinoma',\n",
       "       'squamous.cell.carcinoma', 'squamous.cell.carcinoma',\n",
       "       'squamous.cell.carcinoma', 'squamous.cell.carcinoma',\n",
       "       'squamous.cell.carcinoma'], dtype='<U23')"
      ]
     },
     "execution_count": 8,
     "metadata": {},
     "output_type": "execute_result"
    }
   ],
   "source": [
    "test_images\n",
    "test_labels"
   ]
  },
  {
   "cell_type": "code",
   "execution_count": 9,
   "metadata": {},
   "outputs": [
    {
     "data": {
      "text/plain": [
       "array([[[[  0,   0,   0],\n",
       "         [  0,   0,   0],\n",
       "         [  0,   0,   0],\n",
       "         ...,\n",
       "         [  0,   0,   0],\n",
       "         [  1,   1,   1],\n",
       "         [  0,   0,   0]],\n",
       "\n",
       "        [[  0,   0,   0],\n",
       "         [  0,   0,   0],\n",
       "         [  0,   0,   0],\n",
       "         ...,\n",
       "         [  0,   0,   0],\n",
       "         [  0,   0,   0],\n",
       "         [  0,   0,   0]],\n",
       "\n",
       "        [[  0,   0,   0],\n",
       "         [  0,   0,   0],\n",
       "         [  0,   0,   0],\n",
       "         ...,\n",
       "         [  1,   1,   1],\n",
       "         [  0,   0,   0],\n",
       "         [  0,   0,   0]],\n",
       "\n",
       "        ...,\n",
       "\n",
       "        [[  0,   0,   0],\n",
       "         [  0,   0,   0],\n",
       "         [  0,   0,   0],\n",
       "         ...,\n",
       "         [ 34,  34,  34],\n",
       "         [ 40,  40,  40],\n",
       "         [ 56,  56,  56]],\n",
       "\n",
       "        [[  0,   0,   0],\n",
       "         [  0,   0,   0],\n",
       "         [  0,   0,   0],\n",
       "         ...,\n",
       "         [ 69,  69,  69],\n",
       "         [ 89,  89,  89],\n",
       "         [113, 113, 113]],\n",
       "\n",
       "        [[  0,   0,   0],\n",
       "         [  0,   0,   0],\n",
       "         [  0,   0,   0],\n",
       "         ...,\n",
       "         [127, 127, 127],\n",
       "         [147, 147, 147],\n",
       "         [159, 159, 159]]],\n",
       "\n",
       "\n",
       "       [[[  0,   0,   0],\n",
       "         [  0,   0,   0],\n",
       "         [  0,   0,   0],\n",
       "         ...,\n",
       "         [  0,   0,   0],\n",
       "         [  0,   0,   0],\n",
       "         [  0,   0,   0]],\n",
       "\n",
       "        [[  1,   1,   1],\n",
       "         [  0,   0,   0],\n",
       "         [  0,   0,   0],\n",
       "         ...,\n",
       "         [  0,   0,   0],\n",
       "         [  0,   0,   0],\n",
       "         [  0,   0,   0]],\n",
       "\n",
       "        [[  0,   0,   0],\n",
       "         [  0,   0,   0],\n",
       "         [  0,   0,   0],\n",
       "         ...,\n",
       "         [  1,   1,   1],\n",
       "         [  0,   0,   0],\n",
       "         [  0,   0,   0]],\n",
       "\n",
       "        ...,\n",
       "\n",
       "        [[  0,   0,   0],\n",
       "         [  1,   1,   1],\n",
       "         [  1,   1,   1],\n",
       "         ...,\n",
       "         [  0,   0,   0],\n",
       "         [  0,   0,   0],\n",
       "         [  0,   0,   0]],\n",
       "\n",
       "        [[  1,   1,   1],\n",
       "         [  2,   2,   2],\n",
       "         [  3,   3,   3],\n",
       "         ...,\n",
       "         [  0,   0,   0],\n",
       "         [  0,   0,   0],\n",
       "         [  0,   0,   0]],\n",
       "\n",
       "        [[  1,   1,   1],\n",
       "         [  2,   2,   2],\n",
       "         [  4,   4,   4],\n",
       "         ...,\n",
       "         [  0,   0,   0],\n",
       "         [  0,   0,   0],\n",
       "         [  0,   0,   0]]],\n",
       "\n",
       "\n",
       "       [[[  0,   0,   0],\n",
       "         [  0,   0,   0],\n",
       "         [  0,   0,   0],\n",
       "         ...,\n",
       "         [  0,   0,   0],\n",
       "         [  0,   0,   0],\n",
       "         [  0,   0,   0]],\n",
       "\n",
       "        [[  0,   0,   0],\n",
       "         [  0,   0,   0],\n",
       "         [  0,   0,   0],\n",
       "         ...,\n",
       "         [  0,   0,   0],\n",
       "         [  0,   0,   0],\n",
       "         [  0,   0,   0]],\n",
       "\n",
       "        [[  0,   0,   0],\n",
       "         [  0,   0,   0],\n",
       "         [  0,   0,   0],\n",
       "         ...,\n",
       "         [  0,   0,   0],\n",
       "         [  0,   0,   0],\n",
       "         [  0,   0,   0]],\n",
       "\n",
       "        ...,\n",
       "\n",
       "        [[  0,   0,   0],\n",
       "         [  0,   0,   0],\n",
       "         [  0,   0,   0],\n",
       "         ...,\n",
       "         [  0,   0,   0],\n",
       "         [  0,   0,   0],\n",
       "         [  0,   0,   0]],\n",
       "\n",
       "        [[  0,   0,   0],\n",
       "         [  0,   0,   0],\n",
       "         [  0,   0,   0],\n",
       "         ...,\n",
       "         [  0,   0,   0],\n",
       "         [  0,   0,   0],\n",
       "         [  0,   0,   0]],\n",
       "\n",
       "        [[  0,   0,   0],\n",
       "         [  0,   0,   0],\n",
       "         [  0,   0,   0],\n",
       "         ...,\n",
       "         [  0,   0,   0],\n",
       "         [  0,   0,   0],\n",
       "         [  0,   0,   0]]],\n",
       "\n",
       "\n",
       "       ...,\n",
       "\n",
       "\n",
       "       [[[  0,   0,   0],\n",
       "         [  2,   2,   2],\n",
       "         [  0,   0,   0],\n",
       "         ...,\n",
       "         [  0,   0,   0],\n",
       "         [  1,   1,   1],\n",
       "         [  0,   0,   0]],\n",
       "\n",
       "        [[  0,   0,   0],\n",
       "         [  0,   0,   0],\n",
       "         [  0,   0,   0],\n",
       "         ...,\n",
       "         [  0,   0,   0],\n",
       "         [  0,   0,   0],\n",
       "         [  0,   0,   0]],\n",
       "\n",
       "        [[  1,   1,   1],\n",
       "         [  0,   0,   0],\n",
       "         [  0,   0,   0],\n",
       "         ...,\n",
       "         [  0,   0,   0],\n",
       "         [  0,   0,   0],\n",
       "         [  0,   0,   0]],\n",
       "\n",
       "        ...,\n",
       "\n",
       "        [[  0,   0,   0],\n",
       "         [  0,   0,   0],\n",
       "         [  0,   0,   0],\n",
       "         ...,\n",
       "         [  0,   0,   0],\n",
       "         [  0,   0,   0],\n",
       "         [  0,   0,   0]],\n",
       "\n",
       "        [[  0,   0,   0],\n",
       "         [  0,   0,   0],\n",
       "         [  0,   0,   0],\n",
       "         ...,\n",
       "         [  0,   0,   0],\n",
       "         [  0,   0,   0],\n",
       "         [  0,   0,   0]],\n",
       "\n",
       "        [[  0,   0,   0],\n",
       "         [  0,   0,   0],\n",
       "         [  0,   0,   0],\n",
       "         ...,\n",
       "         [  0,   0,   0],\n",
       "         [  0,   0,   0],\n",
       "         [  0,   0,   0]]],\n",
       "\n",
       "\n",
       "       [[[  0,   0,   0],\n",
       "         [  0,   0,   0],\n",
       "         [  0,   0,   0],\n",
       "         ...,\n",
       "         [  0,   0,   0],\n",
       "         [  1,   1,   1],\n",
       "         [  0,   0,   0]],\n",
       "\n",
       "        [[  2,   2,   2],\n",
       "         [  0,   0,   0],\n",
       "         [  0,   0,   0],\n",
       "         ...,\n",
       "         [  0,   0,   0],\n",
       "         [  0,   0,   0],\n",
       "         [  1,   1,   1]],\n",
       "\n",
       "        [[  1,   1,   1],\n",
       "         [  1,   1,   1],\n",
       "         [  0,   0,   0],\n",
       "         ...,\n",
       "         [  0,   0,   0],\n",
       "         [  0,   0,   0],\n",
       "         [  1,   1,   1]],\n",
       "\n",
       "        ...,\n",
       "\n",
       "        [[  0,   0,   0],\n",
       "         [  0,   0,   0],\n",
       "         [  0,   0,   0],\n",
       "         ...,\n",
       "         [  0,   0,   0],\n",
       "         [  0,   0,   0],\n",
       "         [  0,   0,   0]],\n",
       "\n",
       "        [[  0,   0,   0],\n",
       "         [  0,   0,   0],\n",
       "         [  0,   0,   0],\n",
       "         ...,\n",
       "         [  0,   0,   0],\n",
       "         [  0,   0,   0],\n",
       "         [  0,   0,   0]],\n",
       "\n",
       "        [[  0,   0,   0],\n",
       "         [  0,   0,   0],\n",
       "         [  0,   0,   0],\n",
       "         ...,\n",
       "         [  0,   0,   0],\n",
       "         [  0,   0,   0],\n",
       "         [  0,   0,   0]]],\n",
       "\n",
       "\n",
       "       [[[  0,   0,   0],\n",
       "         [  0,   0,   0],\n",
       "         [  0,   0,   0],\n",
       "         ...,\n",
       "         [  0,   0,   0],\n",
       "         [  0,   0,   0],\n",
       "         [  0,   0,   0]],\n",
       "\n",
       "        [[  0,   0,   0],\n",
       "         [  0,   0,   0],\n",
       "         [  0,   0,   0],\n",
       "         ...,\n",
       "         [  0,   0,   0],\n",
       "         [  0,   0,   0],\n",
       "         [  0,   0,   0]],\n",
       "\n",
       "        [[  0,   0,   0],\n",
       "         [  0,   0,   0],\n",
       "         [  0,   0,   0],\n",
       "         ...,\n",
       "         [  0,   0,   0],\n",
       "         [  0,   0,   0],\n",
       "         [  0,   0,   0]],\n",
       "\n",
       "        ...,\n",
       "\n",
       "        [[ 15,  15,  15],\n",
       "         [ 17,  17,  17],\n",
       "         [ 26,  26,  26],\n",
       "         ...,\n",
       "         [ 17,  17,  17],\n",
       "         [ 10,  10,  10],\n",
       "         [  2,   2,   2]],\n",
       "\n",
       "        [[ 14,  14,  14],\n",
       "         [ 16,  16,  16],\n",
       "         [ 18,  18,  18],\n",
       "         ...,\n",
       "         [ 15,  15,  15],\n",
       "         [  7,   7,   7],\n",
       "         [  1,   1,   1]],\n",
       "\n",
       "        [[ 21,  21,  21],\n",
       "         [ 16,  16,  16],\n",
       "         [ 16,  16,  16],\n",
       "         ...,\n",
       "         [ 11,  11,  11],\n",
       "         [  4,   4,   4],\n",
       "         [  4,   4,   4]]]], dtype=uint8)"
      ]
     },
     "execution_count": 9,
     "metadata": {},
     "output_type": "execute_result"
    }
   ],
   "source": [
    "x_test"
   ]
  },
  {
   "cell_type": "code",
   "execution_count": 10,
   "metadata": {},
   "outputs": [],
   "source": [
    "# Normalize pixel values to between 0 and 1\n",
    "x_train, x_test = x_train / 255.0, x_test / 255.0\n",
    "\n",
    "#One hot encode y values for neural network. \n",
    "from keras.utils import to_categorical\n",
    "y_train_one_hot = to_categorical(y_train)\n",
    "y_test_one_hot = to_categorical(y_test)"
   ]
  },
  {
   "cell_type": "code",
   "execution_count": 11,
   "metadata": {},
   "outputs": [
    {
     "name": "stdout",
     "output_type": "stream",
     "text": [
      "Model: \"vgg16\"\n",
      "_________________________________________________________________\n",
      " Layer (type)                Output Shape              Param #   \n",
      "=================================================================\n",
      " input_1 (InputLayer)        [(None, 256, 256, 3)]     0         \n",
      "                                                                 \n",
      " block1_conv1 (Conv2D)       (None, 256, 256, 64)      1792      \n",
      "                                                                 \n",
      " block1_conv2 (Conv2D)       (None, 256, 256, 64)      36928     \n",
      "                                                                 \n",
      " block1_pool (MaxPooling2D)  (None, 128, 128, 64)      0         \n",
      "                                                                 \n",
      " block2_conv1 (Conv2D)       (None, 128, 128, 128)     73856     \n",
      "                                                                 \n",
      " block2_conv2 (Conv2D)       (None, 128, 128, 128)     147584    \n",
      "                                                                 \n",
      " block2_pool (MaxPooling2D)  (None, 64, 64, 128)       0         \n",
      "                                                                 \n",
      " block3_conv1 (Conv2D)       (None, 64, 64, 256)       295168    \n",
      "                                                                 \n",
      " block3_conv2 (Conv2D)       (None, 64, 64, 256)       590080    \n",
      "                                                                 \n",
      " block3_conv3 (Conv2D)       (None, 64, 64, 256)       590080    \n",
      "                                                                 \n",
      " block3_pool (MaxPooling2D)  (None, 32, 32, 256)       0         \n",
      "                                                                 \n",
      " block4_conv1 (Conv2D)       (None, 32, 32, 512)       1180160   \n",
      "                                                                 \n",
      " block4_conv2 (Conv2D)       (None, 32, 32, 512)       2359808   \n",
      "                                                                 \n",
      " block4_conv3 (Conv2D)       (None, 32, 32, 512)       2359808   \n",
      "                                                                 \n",
      " block4_pool (MaxPooling2D)  (None, 16, 16, 512)       0         \n",
      "                                                                 \n",
      " block5_conv1 (Conv2D)       (None, 16, 16, 512)       2359808   \n",
      "                                                                 \n",
      " block5_conv2 (Conv2D)       (None, 16, 16, 512)       2359808   \n",
      "                                                                 \n",
      " block5_conv3 (Conv2D)       (None, 16, 16, 512)       2359808   \n",
      "                                                                 \n",
      " block5_pool (MaxPooling2D)  (None, 8, 8, 512)         0         \n",
      "                                                                 \n",
      "=================================================================\n",
      "Total params: 14,714,688\n",
      "Trainable params: 0\n",
      "Non-trainable params: 14,714,688\n",
      "_________________________________________________________________\n",
      "27/27 [==============================] - 21s 455ms/step\n"
     ]
    }
   ],
   "source": [
    "#Load model wothout classifier/fully connected layers\n",
    "VGG_model = VGG16(weights='imagenet', include_top=False, input_shape=(SIZE, SIZE, 3))\n",
    "\n",
    "#Make loaded layers as non-trainable. This is important as we want to work with pre-trained weights\n",
    "for layer in VGG_model.layers:\n",
    "\tlayer.trainable = False\n",
    "    \n",
    "VGG_model.summary()  #Trainable parameters will be 0\n",
    "\n",
    "#Now, let us use features from convolutional network for RF\n",
    "feature_extractor=VGG_model.predict(x_train)\n",
    "\n",
    "features = feature_extractor.reshape(feature_extractor.shape[0], -1)\n",
    "\n",
    "X_for_RF = features #This is our X input to RF"
   ]
  },
  {
   "cell_type": "code",
   "execution_count": 12,
   "metadata": {},
   "outputs": [
    {
     "data": {
      "text/plain": [
       "(72, 256, 256, 3)"
      ]
     },
     "execution_count": 12,
     "metadata": {},
     "output_type": "execute_result"
    }
   ],
   "source": [
    "x_test.shape"
   ]
  },
  {
   "attachments": {},
   "cell_type": "markdown",
   "metadata": {},
   "source": [
    "## RANDOM FOREST"
   ]
  },
  {
   "cell_type": "code",
   "execution_count": 13,
   "metadata": {},
   "outputs": [
    {
     "name": "stdout",
     "output_type": "stream",
     "text": [
      "3/3 [==============================] - 3s 1s/step\n",
      "[0 0 0 0 0 0 0 0 0 0 0 0 0 0 0 0 0 0 0 0 3 0 0 1 0 3 1 3 1 0 3 1 3 1 1 1 1\n",
      " 1 1 1 1 1 0 1 0 0 0 2 2 2 2 2 2 2 2 2 2 3 3 3 0 3 3 3 3 3 3 3 3 3 3 3]\n",
      "['adenocarcinoma' 'adenocarcinoma' 'adenocarcinoma' 'adenocarcinoma'\n",
      " 'adenocarcinoma' 'adenocarcinoma' 'adenocarcinoma' 'adenocarcinoma'\n",
      " 'adenocarcinoma' 'adenocarcinoma' 'adenocarcinoma' 'adenocarcinoma'\n",
      " 'adenocarcinoma' 'adenocarcinoma' 'adenocarcinoma' 'adenocarcinoma'\n",
      " 'adenocarcinoma' 'adenocarcinoma' 'adenocarcinoma' 'adenocarcinoma'\n",
      " 'squamous.cell.carcinoma' 'adenocarcinoma' 'adenocarcinoma'\n",
      " 'large.cell.carcinoma' 'adenocarcinoma' 'squamous.cell.carcinoma'\n",
      " 'large.cell.carcinoma' 'squamous.cell.carcinoma' 'large.cell.carcinoma'\n",
      " 'adenocarcinoma' 'squamous.cell.carcinoma' 'large.cell.carcinoma'\n",
      " 'squamous.cell.carcinoma' 'large.cell.carcinoma' 'large.cell.carcinoma'\n",
      " 'large.cell.carcinoma' 'large.cell.carcinoma' 'large.cell.carcinoma'\n",
      " 'large.cell.carcinoma' 'large.cell.carcinoma' 'large.cell.carcinoma'\n",
      " 'large.cell.carcinoma' 'adenocarcinoma' 'large.cell.carcinoma'\n",
      " 'adenocarcinoma' 'adenocarcinoma' 'adenocarcinoma' 'normal' 'normal'\n",
      " 'normal' 'normal' 'normal' 'normal' 'normal' 'normal' 'normal' 'normal'\n",
      " 'squamous.cell.carcinoma' 'squamous.cell.carcinoma'\n",
      " 'squamous.cell.carcinoma' 'adenocarcinoma' 'squamous.cell.carcinoma'\n",
      " 'squamous.cell.carcinoma' 'squamous.cell.carcinoma'\n",
      " 'squamous.cell.carcinoma' 'squamous.cell.carcinoma'\n",
      " 'squamous.cell.carcinoma' 'squamous.cell.carcinoma'\n",
      " 'squamous.cell.carcinoma' 'squamous.cell.carcinoma'\n",
      " 'squamous.cell.carcinoma' 'squamous.cell.carcinoma']\n",
      "Accuracy =  0.8333333333333334\n"
     ]
    }
   ],
   "source": [
    "\n",
    "from sklearn.ensemble import RandomForestClassifier\n",
    "RF_model = RandomForestClassifier(n_estimators = 200, random_state = 80)\n",
    "\n",
    "# Train the model on training data\n",
    "RF_model.fit(X_for_RF, y_train) #For sklearn no one hot encoding\n",
    "\n",
    "#Send test data through same feature extractor process\n",
    "X_test_feature = VGG_model.predict(x_test)\n",
    "X_test_features = X_test_feature.reshape(X_test_feature.shape[0], -1)\n",
    "\n",
    "#predict using the trained RF model. \n",
    "prediction_RF = RF_model.predict(X_test_features)\n",
    "print(prediction_RF)\n",
    "int_prediction_RF = prediction_RF\n",
    "#Inverse transform to get original label back. \n",
    "prediction_RF = le.inverse_transform(prediction_RF)\n",
    "print(prediction_RF)\n",
    "#Print overall accuracy\n",
    "from sklearn import metrics\n",
    "print (\"Accuracy = \", metrics.accuracy_score(test_labels, prediction_RF))\n",
    "\n"
   ]
  },
  {
   "cell_type": "code",
   "execution_count": 15,
   "metadata": {},
   "outputs": [
    {
     "name": "stdout",
     "output_type": "stream",
     "text": [
      "(72, 32768)\n",
      "['adenocarcinoma' 'adenocarcinoma' 'adenocarcinoma' 'adenocarcinoma'\n",
      " 'adenocarcinoma' 'adenocarcinoma' 'adenocarcinoma' 'adenocarcinoma'\n",
      " 'adenocarcinoma' 'adenocarcinoma' 'adenocarcinoma' 'adenocarcinoma'\n",
      " 'adenocarcinoma' 'adenocarcinoma' 'adenocarcinoma' 'adenocarcinoma'\n",
      " 'adenocarcinoma' 'adenocarcinoma' 'adenocarcinoma' 'adenocarcinoma'\n",
      " 'squamous.cell.carcinoma' 'adenocarcinoma' 'adenocarcinoma'\n",
      " 'large.cell.carcinoma' 'adenocarcinoma' 'squamous.cell.carcinoma'\n",
      " 'large.cell.carcinoma' 'squamous.cell.carcinoma' 'large.cell.carcinoma'\n",
      " 'adenocarcinoma' 'squamous.cell.carcinoma' 'large.cell.carcinoma'\n",
      " 'squamous.cell.carcinoma' 'large.cell.carcinoma' 'large.cell.carcinoma'\n",
      " 'large.cell.carcinoma' 'large.cell.carcinoma' 'large.cell.carcinoma'\n",
      " 'large.cell.carcinoma' 'large.cell.carcinoma' 'large.cell.carcinoma'\n",
      " 'large.cell.carcinoma' 'adenocarcinoma' 'large.cell.carcinoma'\n",
      " 'adenocarcinoma' 'adenocarcinoma' 'adenocarcinoma' 'normal' 'normal'\n",
      " 'normal' 'normal' 'normal' 'normal' 'normal' 'normal' 'normal' 'normal'\n",
      " 'squamous.cell.carcinoma' 'squamous.cell.carcinoma'\n",
      " 'squamous.cell.carcinoma' 'adenocarcinoma' 'squamous.cell.carcinoma'\n",
      " 'squamous.cell.carcinoma' 'squamous.cell.carcinoma'\n",
      " 'squamous.cell.carcinoma' 'squamous.cell.carcinoma'\n",
      " 'squamous.cell.carcinoma' 'squamous.cell.carcinoma'\n",
      " 'squamous.cell.carcinoma' 'squamous.cell.carcinoma'\n",
      " 'squamous.cell.carcinoma' 'squamous.cell.carcinoma']\n"
     ]
    }
   ],
   "source": [
    "print(X_test_features.shape)\n",
    "print(prediction_RF)"
   ]
  },
  {
   "cell_type": "code",
   "execution_count": 16,
   "metadata": {},
   "outputs": [
    {
     "data": {
      "text/plain": [
       "<Axes: >"
      ]
     },
     "execution_count": 16,
     "metadata": {},
     "output_type": "execute_result"
    },
    {
     "data": {
      "image/png": "[encoded data removed]",
      "text/plain": [
       "<Figure size 640x480 with 2 Axes>"
      ]
     },
     "metadata": {},
     "output_type": "display_data"
    }
   ],
   "source": [
    "#Confusion Matrix - verify accuracy of each class\n",
    "from sklearn.metrics import confusion_matrix\n",
    "\n",
    "cm = confusion_matrix(test_labels, prediction_RF)\n",
    "#print(cm)\n",
    "sns.heatmap(cm, annot=True)"
   ]
  },
  {
   "cell_type": "code",
   "execution_count": 17,
   "metadata": {},
   "outputs": [
    {
     "name": "stdout",
     "output_type": "stream",
     "text": [
      "1/1 [==============================] - 1s 754ms/step\n",
      "The prediction for this image is:  ['large.cell.carcinoma']\n",
      "The actual label for this image is:  large.cell.carcinoma\n"
     ]
    },
    {
     "data": {
      "image/png": "[encoded data removed]",
      "text/plain": [
       "<Figure size 640x480 with 1 Axes>"
      ]
     },
     "metadata": {},
     "output_type": "display_data"
    }
   ],
   "source": [
    "#Check results on a few select images\n",
    "n=np.random.randint(0, x_test.shape[0])\n",
    "img = x_test[n]\n",
    "plt.imshow(img)\n",
    "input_img = np.expand_dims(img, axis=0) #Expand dims so the input is (num images, x, y, c)\n",
    "input_img_feature=VGG_model.predict(input_img)\n",
    "input_img_features=input_img_feature.reshape(input_img_feature.shape[0], -1)\n",
    "prediction_RF = RF_model.predict(input_img_features)[0] \n",
    "prediction_RF = le.inverse_transform([prediction_RF])  #Reverse the label encoder to original name\n",
    "print(\"The prediction for this image is: \", prediction_RF)\n",
    "print(\"The actual label for this image is: \", test_labels[n])\n"
   ]
  },
  {
   "attachments": {},
   "cell_type": "markdown",
   "metadata": {},
   "source": [
    "## SVM"
   ]
  },
  {
   "cell_type": "code",
   "execution_count": 18,
   "metadata": {},
   "outputs": [
    {
     "name": "stdout",
     "output_type": "stream",
     "text": [
      "3/3 [==============================] - 1s 462ms/step\n"
     ]
    }
   ],
   "source": [
    "from sklearn.svm import SVC as svc\n",
    "SVM_model = svc(kernel ='linear')\n",
    "\n",
    "# Train the model on training data\n",
    "SVM_model.fit(X_for_RF, y_train) #For sklearn no one hot encoding\n",
    "\n",
    "#Send test data through same feature extractor process\n",
    "X_test_feature = VGG_model.predict(x_test)\n",
    "X_test_features = X_test_feature.reshape(X_test_feature.shape[0], -1)"
   ]
  },
  {
   "cell_type": "code",
   "execution_count": 19,
   "metadata": {},
   "outputs": [
    {
     "name": "stdout",
     "output_type": "stream",
     "text": [
      "Accuracy =  0.9166666666666666\n"
     ]
    }
   ],
   "source": [
    "#Now predict using the trained RF model. \n",
    "prediction_SVM = SVM_model.predict(X_test_features)\n",
    "#Inverse le transform to get original label back. \n",
    "prediction_SVM = le.inverse_transform(prediction_SVM)\n",
    "\n",
    "#Print overall accuracy\n",
    "from sklearn import metrics\n",
    "print (\"Accuracy = \", metrics.accuracy_score(test_labels, prediction_SVM))"
   ]
  },
  {
   "attachments": {},
   "cell_type": "markdown",
   "metadata": {},
   "source": [
    "## MULTINOMIAL Naive Bayes"
   ]
  },
  {
   "cell_type": "code",
   "execution_count": 21,
   "metadata": {},
   "outputs": [
    {
     "name": "stdout",
     "output_type": "stream",
     "text": [
      "3/3 [==============================] - 1s 441ms/step\n"
     ]
    }
   ],
   "source": [
    "from sklearn.naive_bayes import MultinomialNB\n",
    "\n",
    "MNBmodel = MultinomialNB()\n",
    "MNBmodel.fit(X_for_RF, y_train)\n",
    "\n",
    "#Send test data through same feature extractor process\n",
    "X_test_feature = VGG_model.predict(x_test)\n",
    "X_test_features = X_test_feature.reshape(X_test_feature.shape[0], -1)"
   ]
  },
  {
   "cell_type": "code",
   "execution_count": 22,
   "metadata": {},
   "outputs": [
    {
     "name": "stdout",
     "output_type": "stream",
     "text": [
      "Accuracy =  0.6944444444444444\n"
     ]
    }
   ],
   "source": [
    "#Now predict using the trained RF model. \n",
    "prediction_MNB = MNBmodel.predict(X_test_features)\n",
    "#Inverse le transform to get original label back. \n",
    "prediction_MNB = le.inverse_transform(prediction_MNB)\n",
    "\n",
    "#Print overall accuracy\n",
    "from sklearn import metrics\n",
    "print (\"Accuracy = \", metrics.accuracy_score(test_labels, prediction_MNB))"
   ]
  },
  {
   "attachments": {},
   "cell_type": "markdown",
   "metadata": {},
   "source": [
    "## Decision Tree Classifier"
   ]
  },
  {
   "cell_type": "code",
   "execution_count": 23,
   "metadata": {},
   "outputs": [
    {
     "name": "stdout",
     "output_type": "stream",
     "text": [
      "3/3 [==============================] - 1s 483ms/step\n"
     ]
    }
   ],
   "source": [
    "from sklearn.tree import DecisionTreeClassifier\n",
    "\n",
    "DTCmodel = DecisionTreeClassifier()\n",
    "\n",
    "DTCmodel.fit(X_for_RF, y_train)\n",
    "\n",
    "#Send test data through same feature extractor process\n",
    "X_test_feature = VGG_model.predict(x_test)\n",
    "X_test_features = X_test_feature.reshape(X_test_feature.shape[0], -1)"
   ]
  },
  {
   "cell_type": "code",
   "execution_count": 24,
   "metadata": {},
   "outputs": [
    {
     "name": "stdout",
     "output_type": "stream",
     "text": [
      "Accuracy =  0.5694444444444444\n"
     ]
    }
   ],
   "source": [
    "#Now predict using the trained RF model. \n",
    "prediction_DTC = DTCmodel.predict(X_test_features)\n",
    "#Inverse le transform to get original label back. \n",
    "prediction_DTC = le.inverse_transform(prediction_DTC)\n",
    "\n",
    "#Print overall accuracy\n",
    "from sklearn import metrics\n",
    "print (\"Accuracy = \", metrics.accuracy_score(test_labels, prediction_DTC))"
   ]
  },
  {
   "cell_type": "code",
   "execution_count": 25,
   "metadata": {},
   "outputs": [],
   "source": [
    "model1 = RF_model\n",
    "model2 = SVM_model\n",
    "model3 = MNBmodel\n",
    "model4 = DTCmodel\n",
    "\n",
    "models = [model1, model2, model3, model4]\n",
    "\n"
   ]
  },
  {
   "cell_type": "code",
   "execution_count": 26,
   "metadata": {},
   "outputs": [],
   "source": [
    "#final_model = "
   ]
  },
  {
   "cell_type": "code",
   "execution_count": 27,
   "metadata": {},
   "outputs": [
    {
     "data": {
      "text/plain": [
       "array(['large.cell.carcinoma'], dtype='<U23')"
      ]
     },
     "execution_count": 27,
     "metadata": {},
     "output_type": "execute_result"
    }
   ],
   "source": [
    "predictions = [prediction_RF, prediction_SVM, prediction_MNB, prediction_DTC]\n",
    "prediction_RF"
   ]
  },
  {
   "cell_type": "code",
   "execution_count": 28,
   "metadata": {},
   "outputs": [],
   "source": [
    "#predictions = [prediction_RF, prediction_SVM, prediction_MNB, prediction_DTC]\n",
    "#preds=np.array(predictions)\n",
    "#ensemble_prediction = np.argmax(preds, axis=1)\n"
   ]
  },
  {
   "cell_type": "code",
   "execution_count": 29,
   "metadata": {},
   "outputs": [
    {
     "data": {
      "text/plain": [
       "array([0, 0, 0, 0, 0, 0, 0, 0, 0, 0, 0, 0, 0, 3, 0, 0, 0, 0, 0, 0, 3, 0,\n",
       "       0, 1, 1, 3, 1, 1, 1, 1, 1, 1, 1, 1, 1, 1, 1, 1, 1, 1, 1, 1, 1, 1,\n",
       "       0, 3, 0, 2, 2, 2, 2, 2, 2, 2, 2, 2, 2, 3, 3, 3, 3, 3, 3, 3, 3, 3,\n",
       "       3, 3, 3, 3, 3, 3])"
      ]
     },
     "execution_count": 29,
     "metadata": {},
     "output_type": "execute_result"
    }
   ],
   "source": [
    "int_prediction_SVM = le.transform(prediction_SVM)\n",
    "int_prediction_SVM"
   ]
  },
  {
   "cell_type": "code",
   "execution_count": 30,
   "metadata": {},
   "outputs": [
    {
     "data": {
      "text/plain": [
       "(array([0, 0, 0, 0, 0, 0, 0, 0, 0, 0, 0, 0, 0, 0, 0, 0, 0, 0, 0, 0, 3, 0,\n",
       "        0, 1, 0, 3, 1, 3, 1, 0, 3, 1, 3, 1, 1, 1, 1, 1, 1, 1, 1, 1, 0, 1,\n",
       "        0, 0, 0, 2, 2, 2, 2, 2, 2, 2, 2, 2, 2, 3, 3, 3, 0, 3, 3, 3, 3, 3,\n",
       "        3, 3, 3, 3, 3, 3]),\n",
       " array([0, 0, 0, 0, 0, 0, 0, 0, 0, 0, 0, 0, 0, 3, 0, 0, 0, 0, 0, 0, 3, 0,\n",
       "        0, 1, 1, 3, 1, 1, 1, 1, 1, 1, 1, 1, 1, 1, 1, 1, 1, 1, 1, 1, 1, 1,\n",
       "        0, 3, 0, 2, 2, 2, 2, 2, 2, 2, 2, 2, 2, 3, 3, 3, 3, 3, 3, 3, 3, 3,\n",
       "        3, 3, 3, 3, 3, 3]))"
      ]
     },
     "execution_count": 30,
     "metadata": {},
     "output_type": "execute_result"
    }
   ],
   "source": [
    "\n",
    "int_prediction_RF , int_prediction_SVM"
   ]
  },
  {
   "cell_type": "code",
   "execution_count": 31,
   "metadata": {},
   "outputs": [
    {
     "data": {
      "text/plain": [
       "array([0, 0, 0, 0, 0, 0, 0, 0, 0, 0, 0, 0, 0, 0, 0, 0, 0, 0, 0, 0, 0, 0,\n",
       "       0, 1, 1, 1, 1, 1, 1, 1, 1, 1, 1, 1, 1, 1, 1, 1, 1, 1, 1, 1, 1, 1,\n",
       "       2, 2, 2, 2, 2, 2, 2, 2, 2, 2, 2, 2, 2, 3, 3, 3, 3, 3, 3, 3, 3, 3,\n",
       "       3, 3, 3, 3, 3, 3])"
      ]
     },
     "execution_count": 31,
     "metadata": {},
     "output_type": "execute_result"
    }
   ],
   "source": [
    "test_labels_encoded"
   ]
  },
  {
   "cell_type": "code",
   "execution_count": 32,
   "metadata": {},
   "outputs": [
    {
     "data": {
      "text/plain": [
       "(72, 2)"
      ]
     },
     "execution_count": 32,
     "metadata": {},
     "output_type": "execute_result"
    }
   ],
   "source": [
    "combined_predictions = np.column_stack((int_prediction_RF, int_prediction_SVM))\n",
    "\n",
    "combined_predictions.shape\n"
   ]
  },
  {
   "attachments": {},
   "cell_type": "markdown",
   "metadata": {},
   "source": [
    "## custom ensemble code"
   ]
  },
  {
   "cell_type": "code",
   "execution_count": null,
   "metadata": {},
   "outputs": [
    {
     "name": "stdout",
     "output_type": "stream",
     "text": [
      "[0 0 0 0 0 0 0 0 0 0 0 0 0 0 0 0 0 0 0 0 3 0 0 1 0 3 1 3 1 0 3 1 3 1 1 1 1\n",
      " 1 1 1 1 1 0 1 0 0 0 2 2 2 2 2 2 2 2 2 2 3 3 3 0 3 3 3 3 3 3 3 3 3 3 3]\n"
     ]
    },
    {
     "name": "stdout",
     "output_type": "stream",
     "text": [
      "[0 0 0 0 0 0 0 0 0 0 0 0 0 3 0 0 0 0 0 0 3 0 0 1 1 3 1 1 1 1 1 1 1 1 1 1 1\n",
      " 1 1 1 1 1 1 1 0 3 0 2 2 2 2 2 2 2 2 2 2 3 3 3 3 3 3 3 3 3 3 3 3 3 3 3]\n"
     ]
    }
   ],
   "source": [
    "img = x_test[0]\n",
    "\n",
    "preds = []\n",
    "for i in range(2) :\n",
    "    preds.append(models[i].predict(X_test_features))\n",
    "    print(models[i].predict(X_test_features))\n",
    "\n"
   ]
  },
  {
   "cell_type": "code",
   "execution_count": null,
   "metadata": {},
   "outputs": [],
   "source": [
    "preds = np.array(preds)"
   ]
  },
  {
   "cell_type": "code",
   "execution_count": null,
   "metadata": {},
   "outputs": [
    {
     "data": {
      "text/plain": [
       "array([[0, 0, 0, 0, 0, 0, 0, 0, 0, 0, 0, 0, 0, 0, 0, 0, 0, 0, 0, 0, 3, 0,\n",
       "        0, 1, 0, 3, 1, 3, 1, 0, 3, 1, 3, 1, 1, 1, 1, 1, 1, 1, 1, 1, 0, 1,\n",
       "        0, 0, 0, 2, 2, 2, 2, 2, 2, 2, 2, 2, 2, 3, 3, 3, 0, 3, 3, 3, 3, 3,\n",
       "        3, 3, 3, 3, 3, 3],\n",
       "       [0, 0, 0, 0, 0, 0, 0, 0, 0, 0, 0, 0, 0, 3, 0, 0, 0, 0, 0, 0, 3, 0,\n",
       "        0, 1, 1, 3, 1, 1, 1, 1, 1, 1, 1, 1, 1, 1, 1, 1, 1, 1, 1, 1, 1, 1,\n",
       "        0, 3, 0, 2, 2, 2, 2, 2, 2, 2, 2, 2, 2, 3, 3, 3, 3, 3, 3, 3, 3, 3,\n",
       "        3, 3, 3, 3, 3, 3]])"
      ]
     },
     "execution_count": 32,
     "metadata": {},
     "output_type": "execute_result"
    }
   ],
   "source": [
    "preds"
   ]
  },
  {
   "cell_type": "code",
   "execution_count": null,
   "metadata": {},
   "outputs": [
    {
     "data": {
      "text/plain": [
       "[[0, 0],\n",
       " [0, 0],\n",
       " [0, 0],\n",
       " [0, 0],\n",
       " [0, 0],\n",
       " [0, 0],\n",
       " [0, 0],\n",
       " [0, 0],\n",
       " [0, 0],\n",
       " [0, 0],\n",
       " [0, 0],\n",
       " [0, 0],\n",
       " [0, 0],\n",
       " [0, 3],\n",
       " [0, 0],\n",
       " [0, 0],\n",
       " [0, 0],\n",
       " [0, 0],\n",
       " [0, 0],\n",
       " [0, 0],\n",
       " [3, 3],\n",
       " [0, 0],\n",
       " [0, 0],\n",
       " [1, 1],\n",
       " [0, 1],\n",
       " [3, 3],\n",
       " [1, 1],\n",
       " [3, 1],\n",
       " [1, 1],\n",
       " [0, 1],\n",
       " [3, 1],\n",
       " [1, 1],\n",
       " [3, 1],\n",
       " [1, 1],\n",
       " [1, 1],\n",
       " [1, 1],\n",
       " [1, 1],\n",
       " [1, 1],\n",
       " [1, 1],\n",
       " [1, 1],\n",
       " [1, 1],\n",
       " [1, 1],\n",
       " [0, 1],\n",
       " [1, 1],\n",
       " [0, 0],\n",
       " [0, 3],\n",
       " [0, 0],\n",
       " [2, 2],\n",
       " [2, 2],\n",
       " [2, 2],\n",
       " [2, 2],\n",
       " [2, 2],\n",
       " [2, 2],\n",
       " [2, 2],\n",
       " [2, 2],\n",
       " [2, 2],\n",
       " [2, 2],\n",
       " [3, 3],\n",
       " [3, 3],\n",
       " [3, 3],\n",
       " [0, 3],\n",
       " [3, 3],\n",
       " [3, 3],\n",
       " [3, 3],\n",
       " [3, 3],\n",
       " [3, 3],\n",
       " [3, 3],\n",
       " [3, 3],\n",
       " [3, 3],\n",
       " [3, 3],\n",
       " [3, 3],\n",
       " [3, 3]]"
      ]
     },
     "execution_count": 33,
     "metadata": {},
     "output_type": "execute_result"
    }
   ],
   "source": [
    "ff_pred = []\n",
    "for i in range(len(x_test)) :\n",
    "    l = []\n",
    "    for j in range(2) :\n",
    "        l.append(preds[j][i])\n",
    "\n",
    "    ff_pred.append(l)\n",
    "\n",
    "ff_pred"
   ]
  },
  {
   "cell_type": "code",
   "execution_count": null,
   "metadata": {},
   "outputs": [
    {
     "name": "stdout",
     "output_type": "stream",
     "text": [
      "0 0 0 0 0 0 0 0 0 0 0 0 0 0 0 0 0 0 0 0 3 0 0 1 0 3 1 3 1 0 3 1 3 1 1 1 1 1 1 1 1 1 0 1 0 0 0 2 2 2 2 2 2 2 2 2 2 3 3 3 0 3 3 3 3 3 3 3 3 3 3 3\n"
     ]
    }
   ],
   "source": [
    "final_pred = []\n",
    "for pred in ff_pred :\n",
    "    mx = max(pred, key=list(pred).count)\n",
    "    # print(mx)\n",
    "    final_pred.append(mx)\n",
    "\n",
    "print(*final_pred)"
   ]
  },
  {
   "cell_type": "code",
   "execution_count": null,
   "metadata": {},
   "outputs": [
    {
     "data": {
      "text/plain": [
       "array(['adenocarcinoma', 'adenocarcinoma', 'adenocarcinoma',\n",
       "       'adenocarcinoma', 'adenocarcinoma', 'adenocarcinoma',\n",
       "       'adenocarcinoma', 'adenocarcinoma', 'adenocarcinoma',\n",
       "       'adenocarcinoma', 'adenocarcinoma', 'adenocarcinoma',\n",
       "       'adenocarcinoma', 'adenocarcinoma', 'adenocarcinoma',\n",
       "       'adenocarcinoma', 'adenocarcinoma', 'adenocarcinoma',\n",
       "       'adenocarcinoma', 'adenocarcinoma', 'squamous.cell.carcinoma',\n",
       "       'adenocarcinoma', 'adenocarcinoma', 'large.cell.carcinoma',\n",
       "       'adenocarcinoma', 'squamous.cell.carcinoma',\n",
       "       'large.cell.carcinoma', 'squamous.cell.carcinoma',\n",
       "       'large.cell.carcinoma', 'adenocarcinoma',\n",
       "       'squamous.cell.carcinoma', 'large.cell.carcinoma',\n",
       "       'squamous.cell.carcinoma', 'large.cell.carcinoma',\n",
       "       'large.cell.carcinoma', 'large.cell.carcinoma',\n",
       "       'large.cell.carcinoma', 'large.cell.carcinoma',\n",
       "       'large.cell.carcinoma', 'large.cell.carcinoma',\n",
       "       'large.cell.carcinoma', 'large.cell.carcinoma', 'adenocarcinoma',\n",
       "       'large.cell.carcinoma', 'adenocarcinoma', 'adenocarcinoma',\n",
       "       'adenocarcinoma', 'normal', 'normal', 'normal', 'normal', 'normal',\n",
       "       'normal', 'normal', 'normal', 'normal', 'normal',\n",
       "       'squamous.cell.carcinoma', 'squamous.cell.carcinoma',\n",
       "       'squamous.cell.carcinoma', 'adenocarcinoma',\n",
       "       'squamous.cell.carcinoma', 'squamous.cell.carcinoma',\n",
       "       'squamous.cell.carcinoma', 'squamous.cell.carcinoma',\n",
       "       'squamous.cell.carcinoma', 'squamous.cell.carcinoma',\n",
       "       'squamous.cell.carcinoma', 'squamous.cell.carcinoma',\n",
       "       'squamous.cell.carcinoma', 'squamous.cell.carcinoma',\n",
       "       'squamous.cell.carcinoma'], dtype='<U23')"
      ]
     },
     "execution_count": 35,
     "metadata": {},
     "output_type": "execute_result"
    }
   ],
   "source": [
    "\n",
    "final_pred_list = le.inverse_transform(final_pred)\n",
    "\n",
    "final_pred_list"
   ]
  },
  {
   "cell_type": "code",
   "execution_count": 1,
   "metadata": {},
   "outputs": [
    {
     "name": "stdout",
     "output_type": "stream",
     "text": [
      "Accuracy = 90.20777777777778\n"
     ]
    }
   ],
   "source": [
    "from sklearn import metrics\n",
    "print (\"Accuracy = \", metrics.accuracy_score(test_labels, final_pred_list) *100, \"%\")"
   ]
  }
 ],
 "metadata": {
  "kernelspec": {
   "display_name": "tf",
   "language": "python",
   "name": "tf"
  },
  "language_info": {
   "codemirror_mode": {
    "name": "ipython",
    "version": 3
   },
   "file_extension": ".py",
   "mimetype": "text/x-python",
   "name": "python",
   "nbconvert_exporter": "python",
   "pygments_lexer": "ipython3",
   "version": "3.9.16"
  },
  "orig_nbformat": 4
 },
 "nbformat": 4,
 "nbformat_minor": 2
}
